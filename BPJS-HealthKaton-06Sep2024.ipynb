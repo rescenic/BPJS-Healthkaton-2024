{
 "cells": [
  {
   "cell_type": "markdown",
   "metadata": {
    "editable": true,
    "slideshow": {
     "slide_type": "slide"
    },
    "tags": []
   },
   "source": [
    "# <center><font color=\"blue\">Workshop Healthkaton BPJS Kesehatan 2024:</font></center>\n",
    "## <center><font color=\"green\"><i>The Future of Generative AI In Healthcare:<br>Trends, Innovation, and Potential</i></font></center><center><font color=\"black\">Jum'at, 06 September 2024</font></center>\n",
    "\n",
    "<center> <img alt=\"\" src=\"images/cover.jpg\"/> </center>\n",
    "\n",
    "## <center><font color=\"black\">Taufik Sutanto</font> ~ <font color=\"blue\">Aptikom</font></center>"
   ]
  },
  {
   "attachments": {},
   "cell_type": "markdown",
   "metadata": {
    "editable": true,
    "slideshow": {
     "slide_type": "slide"
    },
    "tags": []
   },
   "source": [
    "# <center><font color=\"blue\">Slide, Code, dan Anaconda Environment:</font></center>\n",
    "\n",
    "# Google Colab (module ini): <font color=\"red\">https://s.id/healthkaton-2024</font>\n",
    "<a href=\"https://s.id/healthkaton-2024\"><center><img alt=\"\" src=\"images/QR-Healthkaton-2024.png\" width=\"400\"/></center></a>\n",
    "\n",
    "# <font color=\"green\">Github: https://github.com/taudataanalytics/BPJS-Healthkaton-2024 </font>\n"
   ]
  },
  {
   "cell_type": "markdown",
   "metadata": {
    "editable": true,
    "slideshow": {
     "slide_type": ""
    },
    "tags": []
   },
   "source": [
    "# <center><font color=\"blue\">Outline Workshop:</font></center>\n",
    "\n",
    "1. Prompt Design & Engineering - Chatgpt\n",
    "2. Load PreTrained model ==> Call ==> \n",
    "3. Training Data => JSON (given by Nara sumber)\n",
    "4. FineTune Model GPT-4o mini ==> OpenAI PlayGround\n",
    "5. Using FineTuned Model di langkah 4"
   ]
  },
  {
   "cell_type": "markdown",
   "metadata": {
    "editable": true,
    "slideshow": {
     "slide_type": "slide"
    },
    "tags": []
   },
   "source": [
    "# <center><font color=\"blue\"> Pengantar Generative AI </font></center>\n",
    "\n",
    "* Konsep, sejarah, dan prinsip dasar.\n",
    "* \n",
    "<center><img src=\"images/....jpg\" alt=\"\" /></center>"
   ]
  },
  {
   "cell_type": "markdown",
   "metadata": {
    "editable": true,
    "slideshow": {
     "slide_type": "slide"
    },
    "tags": []
   },
   "source": [
    "# <center><font color=\"blue\"> Tren Terkini dalam Generative AI </font></center>\n",
    "\n",
    "* GPT, GANs, Model Difusi\n",
    "* \n",
    "<center><img src=\"images/....jpg\" alt=\"\" /></center>"
   ]
  },
  {
   "cell_type": "markdown",
   "metadata": {
    "editable": true,
    "slideshow": {
     "slide_type": "slide"
    },
    "tags": []
   },
   "source": [
    "# <center><font color=\"blue\"> Inovasi dan Aplikasi Praktis </font></center>\n",
    "\n",
    "* Aplikasi generative AI dalam berbagai industri (Health)\n",
    "* \n",
    "<center><img src=\"images/....jpg\" alt=\"\" /></center>"
   ]
  },
  {
   "cell_type": "markdown",
   "metadata": {
    "editable": true,
    "slideshow": {
     "slide_type": "slide"
    },
    "tags": []
   },
   "source": [
    "# <center><font color=\"blue\"> Dampak Generative AI dalam Bekerja & Berinovasi </font></center>\n",
    "\n",
    "* \n",
    "* \n",
    "<center><img src=\"images/....jpg\" alt=\"\" /></center>"
   ]
  },
  {
   "cell_type": "markdown",
   "metadata": {
    "editable": true,
    "slideshow": {
     "slide_type": ""
    },
    "tags": []
   },
   "source": [
    "# <center><font color=\"blue\"> Tantangan dan Etika dalam Generative AI </font></center>\n",
    "\n",
    "* Privasi, bias algoritma, dan tanggung jawab sosial.\n",
    "* Biaya komputasi & cloud training LLM*** (tambahan TS)\n",
    "* \n",
    "<center><img src=\"images/....jpg\" alt=\"\" /></center>"
   ]
  },
  {
   "cell_type": "markdown",
   "metadata": {
    "editable": true,
    "slideshow": {
     "slide_type": ""
    },
    "tags": []
   },
   "source": [
    "# <center><font color=\"blue\"> Studi Kasus dan Praktik Terbaik </font></center>\n",
    "\n",
    "* Pembelajaran dari proyek sukses yang menggunakan Generative AI.\n",
    "* \n",
    "<center><img src=\"images/....jpg\" alt=\"\" /></center>"
   ]
  },
  {
   "cell_type": "code",
   "execution_count": null,
   "metadata": {
    "editable": true,
    "slideshow": {
     "slide_type": ""
    },
    "tags": []
   },
   "outputs": [],
   "source": []
  },
  {
   "cell_type": "code",
   "execution_count": null,
   "metadata": {
    "editable": true,
    "slideshow": {
     "slide_type": ""
    },
    "tags": []
   },
   "outputs": [],
   "source": []
  },
  {
   "cell_type": "code",
   "execution_count": null,
   "metadata": {
    "editable": true,
    "slideshow": {
     "slide_type": ""
    },
    "tags": []
   },
   "outputs": [],
   "source": []
  },
  {
   "cell_type": "code",
   "execution_count": null,
   "metadata": {
    "editable": true,
    "slideshow": {
     "slide_type": ""
    },
    "tags": []
   },
   "outputs": [],
   "source": []
  },
  {
   "cell_type": "code",
   "execution_count": null,
   "metadata": {
    "editable": true,
    "slideshow": {
     "slide_type": ""
    },
    "tags": []
   },
   "outputs": [],
   "source": []
  },
  {
   "cell_type": "code",
   "execution_count": null,
   "metadata": {
    "editable": true,
    "slideshow": {
     "slide_type": ""
    },
    "tags": []
   },
   "outputs": [],
   "source": []
  },
  {
   "cell_type": "code",
   "execution_count": 1,
   "metadata": {
    "editable": true,
    "slideshow": {
     "slide_type": "slide"
    },
    "tags": []
   },
   "outputs": [],
   "source": [
    "# Loading Module Python\n",
    "import warnings; warnings.simplefilter('ignore')\n",
    "import pandas as pd, matplotlib.pyplot as plt, seaborn as sns"
   ]
  },
  {
   "cell_type": "markdown",
   "metadata": {
    "editable": true,
    "slideshow": {
     "slide_type": "slide"
    },
    "tags": []
   },
   "source": [
    "# <center><font color=\"blue\">Loading Dataset</font></center>"
   ]
  },
  {
   "cell_type": "code",
   "execution_count": 11,
   "metadata": {
    "slideshow": {
     "slide_type": "slide"
    }
   },
   "outputs": [
    {
     "data": {
      "text/html": [
       "<div>\n",
       "<style scoped>\n",
       "    .dataframe tbody tr th:only-of-type {\n",
       "        vertical-align: middle;\n",
       "    }\n",
       "\n",
       "    .dataframe tbody tr th {\n",
       "        vertical-align: top;\n",
       "    }\n",
       "\n",
       "    .dataframe thead th {\n",
       "        text-align: right;\n",
       "    }\n",
       "</style>\n",
       "<table border=\"1\" class=\"dataframe\">\n",
       "  <thead>\n",
       "    <tr style=\"text-align: right;\">\n",
       "      <th></th>\n",
       "      <th>total_bill</th>\n",
       "      <th>tip</th>\n",
       "      <th>sex</th>\n",
       "      <th>smoker</th>\n",
       "      <th>day</th>\n",
       "      <th>time</th>\n",
       "      <th>size</th>\n",
       "      <th>review</th>\n",
       "    </tr>\n",
       "  </thead>\n",
       "  <tbody>\n",
       "    <tr>\n",
       "      <th>74</th>\n",
       "      <td>14.73</td>\n",
       "      <td>2.20</td>\n",
       "      <td>Female</td>\n",
       "      <td>No</td>\n",
       "      <td>Sat</td>\n",
       "      <td>Dinner</td>\n",
       "      <td>2</td>\n",
       "      <td>Ayam gorengnya juga enak</td>\n",
       "    </tr>\n",
       "    <tr>\n",
       "      <th>27</th>\n",
       "      <td>12.69</td>\n",
       "      <td>2.00</td>\n",
       "      <td>Male</td>\n",
       "      <td>No</td>\n",
       "      <td>Sat</td>\n",
       "      <td>Dinner</td>\n",
       "      <td>2</td>\n",
       "      <td>Pelayanan super, makanan super</td>\n",
       "    </tr>\n",
       "    <tr>\n",
       "      <th>92</th>\n",
       "      <td>5.75</td>\n",
       "      <td>1.00</td>\n",
       "      <td>Female</td>\n",
       "      <td>Yes</td>\n",
       "      <td>Fri</td>\n",
       "      <td>Dinner</td>\n",
       "      <td>2</td>\n",
       "      <td>Tempatnya ok, tapi rame banget</td>\n",
       "    </tr>\n",
       "    <tr>\n",
       "      <th>53</th>\n",
       "      <td>9.94</td>\n",
       "      <td>1.56</td>\n",
       "      <td>Male</td>\n",
       "      <td>No</td>\n",
       "      <td>Sun</td>\n",
       "      <td>Dinner</td>\n",
       "      <td>2</td>\n",
       "      <td>Tempatnya nyaman untuk keluarga</td>\n",
       "    </tr>\n",
       "    <tr>\n",
       "      <th>149</th>\n",
       "      <td>7.51</td>\n",
       "      <td>2.00</td>\n",
       "      <td>Male</td>\n",
       "      <td>No</td>\n",
       "      <td>Thur</td>\n",
       "      <td>Lunch</td>\n",
       "      <td>2</td>\n",
       "      <td>Ayam bakar mantap, tapi kecapnya terlalu manis</td>\n",
       "    </tr>\n",
       "    <tr>\n",
       "      <th>25</th>\n",
       "      <td>17.81</td>\n",
       "      <td>2.34</td>\n",
       "      <td>Male</td>\n",
       "      <td>No</td>\n",
       "      <td>Sat</td>\n",
       "      <td>Dinner</td>\n",
       "      <td>4</td>\n",
       "      <td>Cocok buat family dinner</td>\n",
       "    </tr>\n",
       "    <tr>\n",
       "      <th>70</th>\n",
       "      <td>12.02</td>\n",
       "      <td>1.97</td>\n",
       "      <td>Male</td>\n",
       "      <td>No</td>\n",
       "      <td>Sat</td>\n",
       "      <td>Dinner</td>\n",
       "      <td>2</td>\n",
       "      <td>Tempat makan paling cozy</td>\n",
       "    </tr>\n",
       "    <tr>\n",
       "      <th>229</th>\n",
       "      <td>22.12</td>\n",
       "      <td>2.88</td>\n",
       "      <td>Female</td>\n",
       "      <td>Yes</td>\n",
       "      <td>Sat</td>\n",
       "      <td>Dinner</td>\n",
       "      <td>2</td>\n",
       "      <td>Ayam bakar terbaik di kota</td>\n",
       "    </tr>\n",
       "    <tr>\n",
       "      <th>31</th>\n",
       "      <td>18.35</td>\n",
       "      <td>2.50</td>\n",
       "      <td>Male</td>\n",
       "      <td>No</td>\n",
       "      <td>Sat</td>\n",
       "      <td>Dinner</td>\n",
       "      <td>4</td>\n",
       "      <td>Menu anak-anak juga enak</td>\n",
       "    </tr>\n",
       "    <tr>\n",
       "      <th>21</th>\n",
       "      <td>20.29</td>\n",
       "      <td>2.75</td>\n",
       "      <td>Female</td>\n",
       "      <td>No</td>\n",
       "      <td>Sat</td>\n",
       "      <td>Dinner</td>\n",
       "      <td>2</td>\n",
       "      <td>Ayam bakar + sambal = sempurna</td>\n",
       "    </tr>\n",
       "  </tbody>\n",
       "</table>\n",
       "</div>"
      ],
      "text/plain": [
       "     total_bill   tip     sex smoker   day    time  size  \\\n",
       "74        14.73  2.20  Female     No   Sat  Dinner     2   \n",
       "27        12.69  2.00    Male     No   Sat  Dinner     2   \n",
       "92         5.75  1.00  Female    Yes   Fri  Dinner     2   \n",
       "53         9.94  1.56    Male     No   Sun  Dinner     2   \n",
       "149        7.51  2.00    Male     No  Thur   Lunch     2   \n",
       "25        17.81  2.34    Male     No   Sat  Dinner     4   \n",
       "70        12.02  1.97    Male     No   Sat  Dinner     2   \n",
       "229       22.12  2.88  Female    Yes   Sat  Dinner     2   \n",
       "31        18.35  2.50    Male     No   Sat  Dinner     4   \n",
       "21        20.29  2.75  Female     No   Sat  Dinner     2   \n",
       "\n",
       "                                              review  \n",
       "74                          Ayam gorengnya juga enak  \n",
       "27                    Pelayanan super, makanan super  \n",
       "92                    Tempatnya ok, tapi rame banget  \n",
       "53                   Tempatnya nyaman untuk keluarga  \n",
       "149   Ayam bakar mantap, tapi kecapnya terlalu manis  \n",
       "25                          Cocok buat family dinner  \n",
       "70                          Tempat makan paling cozy  \n",
       "229                       Ayam bakar terbaik di kota  \n",
       "31                          Menu anak-anak juga enak  \n",
       "21                    Ayam bakar + sambal = sempurna  "
      ]
     },
     "execution_count": 11,
     "metadata": {},
     "output_type": "execute_result"
    }
   ],
   "source": [
    "file_ = 'data/tipsR.csv'\n",
    "try: # Running Locally, yakinkan \"file_\" berada di folder \"data\"\n",
    "    tips = pd.read_csv(file_)\n",
    "except: # Running in Google Colab\n",
    "    !mkdir data\n",
    "    !wget -P data/ https://raw.githubusercontent.com/taudataanalytics/IT-Fair-XIII-UIN-SGD/master/data/tipsR.csv\n",
    "    tips = pd.read_csv(file_)\n",
    "    \n",
    "tips.sample(10)"
   ]
  },
  {
   "cell_type": "markdown",
   "metadata": {
    "editable": true,
    "slideshow": {
     "slide_type": ""
    },
    "tags": []
   },
   "source": [
    "# <center><font color=\"blue\"> Referensi </font></center>\n",
    "\n",
    "* Evaluasi LLM: \n",
    "* LLM dari Python: https://medium.com/@ariya114/menjalankan-llama-2-di-laptop-8eaf296669bd\n",
    "* Fine-tunning LLM: https://medium.com/pondhouse-data/fine-tune-openais-gpt-4o-mini-llm-ai-model-for-free-37c7222e95eb"
   ]
  },
  {
   "cell_type": "markdown",
   "metadata": {
    "editable": true,
    "slideshow": {
     "slide_type": "slide"
    },
    "tags": []
   },
   "source": [
    "# <center><font color=\"blue\"> Akhir Modul Workshop BPJS Healthkaton 2024</font></center>\n",
    "<hr />\n",
    "<center><img alt=\"\" src=\"images/meme-AI-Summary.png\" /></center>"
   ]
  }
 ],
 "metadata": {
  "celltoolbar": "Slideshow",
  "hide_input": false,
  "kernelspec": {
   "display_name": "Python 3 (ipykernel)",
   "language": "python",
   "name": "python3"
  },
  "language_info": {
   "codemirror_mode": {
    "name": "ipython",
    "version": 3
   },
   "file_extension": ".py",
   "mimetype": "text/x-python",
   "name": "python",
   "nbconvert_exporter": "python",
   "pygments_lexer": "ipython3",
   "version": "3.10.14"
  },
  "latex_envs": {
   "LaTeX_envs_menu_present": true,
   "autoclose": false,
   "autocomplete": true,
   "bibliofile": "biblio.bib",
   "cite_by": "apalike",
   "current_citInitial": 1,
   "eqLabelWithNumbers": true,
   "eqNumInitial": 1,
   "hotkeys": {
    "equation": "Ctrl-E",
    "itemize": "Ctrl-I"
   },
   "labels_anchors": false,
   "latex_user_defs": false,
   "report_style_numbering": false,
   "user_envs_cfg": false
  },
  "vp": {
   "vp_config_version": "1.0.0",
   "vp_menu_width": 273,
   "vp_note_display": false,
   "vp_note_width": 0,
   "vp_position": {
    "width": 278
   },
   "vp_section_display": false,
   "vp_signature": "VisualPython"
  }
 },
 "nbformat": 4,
 "nbformat_minor": 4
}
