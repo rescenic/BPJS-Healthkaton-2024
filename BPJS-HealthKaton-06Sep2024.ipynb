{
 "cells": [
  {
   "cell_type": "markdown",
   "metadata": {
    "editable": true,
    "slideshow": {
     "slide_type": "slide"
    },
    "tags": []
   },
   "source": [
    "# <center><font color=\"blue\">Workshop Healthkaton BPJS Kesehatan 2024:</font></center>\n",
    "## <center><font color=\"green\"><i>The Future of Generative AI In Healthcare:<br>Trends, Innovation, and Potential</i></font></center><center><font color=\"black\">Jum'at, 06 September 2024</font></center>\n",
    "\n",
    "<center> <img alt=\"\" src=\"images/cover.jpg\"/> </center>\n",
    "\n",
    "## <center><font color=\"black\">Taufik Sutanto</font> ~ <font color=\"blue\">Aptikom</font></center>"
   ]
  },
  {
   "attachments": {},
   "cell_type": "markdown",
   "metadata": {
    "editable": true,
    "slideshow": {
     "slide_type": "slide"
    },
    "tags": []
   },
   "source": [
    "# <center><font color=\"blue\">Slide, Code, dan Anaconda Environment:</font></center>\n",
    "\n",
    "# Google Colab (module ini): <font color=\"red\">https://s.id/healthkaton-2024</font>\n",
    "<a href=\"https://s.id/healthkaton-2024\"><center><img alt=\"\" src=\"images/QR-Healthkaton-2024.png\" width=\"400\"/></center></a>\n",
    "\n",
    "# <font color=\"green\">Github: https://github.com/taudataanalytics/BPJS-Healthkaton-2024 </font>\n"
   ]
  },
  {
   "cell_type": "markdown",
   "metadata": {
    "editable": true,
    "slideshow": {
     "slide_type": ""
    },
    "tags": []
   },
   "source": [
    "# <center><font color=\"blue\">Outline Workshop:</font></center>\n",
    "\n",
    "* Contoh sederhana model GAN - MNIST\n",
    "* Contoh Sederhana Model Difusi\n",
    "* Load PreTrained Model - Scikit Learn\n",
    "* Prompt Design & Engineering - Chatgpt\n",
    "* FineTune Model GPT-4o mini ==> OpenAI PlayGround - Data Kesehatan\n",
    "* Using FineTuned Model di langkah Sebelumnya"
   ]
  },
  {
   "cell_type": "code",
   "execution_count": 1,
   "metadata": {},
   "outputs": [
    {
     "name": "stdout",
     "output_type": "stream",
     "text": [
      "Running the code locally, please make sure all of the python module versions agree with colab environment and all data/assets downloaded\n"
     ]
    }
   ],
   "source": [
    "import warnings; warnings.simplefilter('ignore')\n",
    "import pandas as pd, numpy as np, matplotlib.pyplot as plt, seaborn as sns\n",
    "from tqdm import tqdm \n",
    "\n",
    "try:\n",
    "    import google.colab; IN_COLAB = True\n",
    "    print(\"Installing the required modules\")\n",
    "    !pip install torch torchvision torchaudio --index-url https://download.pytorch.org/whl/cu124\n",
    "    !pip install openai scikit-llm\n",
    "    print(\"preparing directories and assets\")\n",
    "    !mkdir data images output\n",
    "    #!wget -P data/ https://raw.githubusercontent.com/taudata-indonesia/eLearning/master/data/price.csv\n",
    "except:\n",
    "    IN_COLAB = False\n",
    "    print(\"Running the code locally, please make sure all of the python module versions agree with colab environment and all data/assets downloaded\")"
   ]
  },
  {
   "cell_type": "code",
   "execution_count": 2,
   "metadata": {},
   "outputs": [
    {
     "data": {
      "text/plain": [
       "device(type='cuda')"
      ]
     },
     "execution_count": 2,
     "metadata": {},
     "output_type": "execute_result"
    }
   ],
   "source": [
    "import torch, gc\n",
    "import torch.nn as nn\n",
    "import torch.optim as optim\n",
    "from torch.utils.data import DataLoader\n",
    "from torchvision import datasets, transforms\n",
    "import torchvision.utils as vutils\n",
    "\n",
    "gc.collect()\n",
    "torch.cuda.empty_cache()\n",
    "seed = 6924\n",
    "np.random.seed(seed)\n",
    "torch.manual_seed(seed=seed)\n",
    "# Set device - Make sure to change runtime type to GPU in Google Colab\n",
    "device = torch.device(\"cuda\" if torch.cuda.is_available() else \"cpu\")\n",
    "device"
   ]
  },
  {
   "cell_type": "markdown",
   "metadata": {},
   "source": [
    "# Generative Adversarial Networks (GAN) - Contoh Kasus paling sederhana"
   ]
  },
  {
   "cell_type": "code",
   "execution_count": 3,
   "metadata": {
    "jupyter": {
     "source_hidden": true
    }
   },
   "outputs": [],
   "source": [
    "# Hyperparameters\n",
    "batch_size = 64\n",
    "nz = 100  # Ukuran noise vector (latent vector)\n",
    "num_epochs = 50\n",
    "lr = 0.0002\n",
    "\n",
    "# Transformasi dataset ke tensor dan normalisasi\n",
    "transform = transforms.Compose([\n",
    "    transforms.ToTensor(),\n",
    "    transforms.Normalize((0.5,), (0.5,))  # Normalisasi gambar ke rentang [-1, 1]\n",
    "])\n",
    "\n",
    "# Load dataset MNIST\n",
    "dataset = datasets.MNIST(root='./data', train=True, transform=transform, download=True)\n",
    "dataloader = DataLoader(dataset, batch_size=batch_size, shuffle=True)"
   ]
  },
  {
   "cell_type": "code",
   "execution_count": 4,
   "metadata": {},
   "outputs": [
    {
     "data": {
      "text/plain": [
       "'Done'"
      ]
     },
     "execution_count": 4,
     "metadata": {},
     "output_type": "execute_result"
    }
   ],
   "source": [
    "# Definisi Generator\n",
    "class Generator(nn.Module):\n",
    "    def __init__(self):\n",
    "        super(Generator, self).__init__()\n",
    "        self.model = nn.Sequential(\n",
    "            nn.Linear(nz, 128),\n",
    "            nn.ReLU(True),\n",
    "            nn.Linear(128, 256),\n",
    "            nn.ReLU(True),\n",
    "            nn.Linear(256, 512),\n",
    "            nn.ReLU(True),\n",
    "            nn.Linear(512, 784),\n",
    "            nn.Tanh()  # Output values between -1 and 1\n",
    "        )\n",
    "\n",
    "    def forward(self, x):\n",
    "        return self.model(x)\n",
    "\n",
    "# Definisi Discriminator\n",
    "class Discriminator(nn.Module):\n",
    "    def __init__(self):\n",
    "        super(Discriminator, self).__init__()\n",
    "        self.model = nn.Sequential(\n",
    "            nn.Linear(784, 512),\n",
    "            nn.LeakyReLU(0.2, inplace=True),\n",
    "            nn.Linear(512, 256),\n",
    "            nn.LeakyReLU(0.2, inplace=True),\n",
    "            nn.Linear(256, 1),\n",
    "            nn.Sigmoid()  # Output a probability (0 to 1)\n",
    "        )\n",
    "\n",
    "    def forward(self, x):\n",
    "        return self.model(x)\n",
    "\"Done\""
   ]
  },
  {
   "cell_type": "code",
   "execution_count": 5,
   "metadata": {},
   "outputs": [
    {
     "data": {
      "text/plain": [
       "'Done'"
      ]
     },
     "execution_count": 5,
     "metadata": {},
     "output_type": "execute_result"
    }
   ],
   "source": [
    "# Inisialisasi model\n",
    "generator = Generator()\n",
    "discriminator = Discriminator()\n",
    "\n",
    "# Optimizer dan loss function\n",
    "criterion = nn.BCELoss()\n",
    "optimizerG = optim.Adam(generator.parameters(), lr=lr)\n",
    "optimizerD = optim.Adam(discriminator.parameters(), lr=lr)\n",
    "\"Done\""
   ]
  },
  {
   "cell_type": "code",
   "execution_count": 6,
   "metadata": {},
   "outputs": [
    {
     "name": "stdout",
     "output_type": "stream",
     "text": [
      "Epoch [1/50], Step [0/938], d_loss: 1.4481, g_loss: 0.7132\n",
      "Epoch [1/50], Step [500/938], d_loss: 0.0410, g_loss: 7.3215\n",
      "Epoch [2/50], Step [0/938], d_loss: 0.5057, g_loss: 4.6799\n",
      "Epoch [2/50], Step [500/938], d_loss: 2.2314, g_loss: 2.3508\n",
      "Epoch [3/50], Step [0/938], d_loss: 0.6714, g_loss: 2.6245\n",
      "Epoch [3/50], Step [500/938], d_loss: 0.9734, g_loss: 1.9141\n",
      "Epoch [4/50], Step [0/938], d_loss: 0.1413, g_loss: 3.0766\n",
      "Epoch [4/50], Step [500/938], d_loss: 0.1536, g_loss: 3.5699\n",
      "Epoch [5/50], Step [0/938], d_loss: 0.1140, g_loss: 3.7596\n",
      "Epoch [5/50], Step [500/938], d_loss: 1.8995, g_loss: 5.3174\n",
      "Epoch [6/50], Step [0/938], d_loss: 0.9310, g_loss: 3.2467\n",
      "Epoch [6/50], Step [500/938], d_loss: 0.3505, g_loss: 3.3792\n",
      "Epoch [7/50], Step [0/938], d_loss: 0.4594, g_loss: 2.4637\n",
      "Epoch [7/50], Step [500/938], d_loss: 0.2585, g_loss: 3.6701\n",
      "Epoch [8/50], Step [0/938], d_loss: 0.5442, g_loss: 3.7305\n",
      "Epoch [8/50], Step [500/938], d_loss: 0.2354, g_loss: 4.3546\n",
      "Epoch [9/50], Step [0/938], d_loss: 0.1352, g_loss: 5.2720\n",
      "Epoch [9/50], Step [500/938], d_loss: 0.2146, g_loss: 5.2567\n",
      "Epoch [10/50], Step [0/938], d_loss: 0.3010, g_loss: 4.7046\n",
      "Epoch [10/50], Step [500/938], d_loss: 0.4960, g_loss: 3.0485\n",
      "Epoch [11/50], Step [0/938], d_loss: 0.6019, g_loss: 2.0516\n",
      "Epoch [11/50], Step [500/938], d_loss: 0.4356, g_loss: 2.8727\n",
      "Epoch [12/50], Step [0/938], d_loss: 0.4155, g_loss: 2.7224\n",
      "Epoch [12/50], Step [500/938], d_loss: 0.1683, g_loss: 6.0495\n",
      "Epoch [13/50], Step [0/938], d_loss: 0.3772, g_loss: 4.5374\n",
      "Epoch [13/50], Step [500/938], d_loss: 0.5642, g_loss: 3.2615\n",
      "Epoch [14/50], Step [0/938], d_loss: 0.2552, g_loss: 5.3745\n",
      "Epoch [14/50], Step [500/938], d_loss: 0.1109, g_loss: 3.7189\n",
      "Epoch [15/50], Step [0/938], d_loss: 0.0582, g_loss: 6.3629\n",
      "Epoch [15/50], Step [500/938], d_loss: 0.4056, g_loss: 3.3185\n",
      "Epoch [16/50], Step [0/938], d_loss: 0.2352, g_loss: 3.9408\n",
      "Epoch [16/50], Step [500/938], d_loss: 0.4159, g_loss: 2.2530\n",
      "Epoch [17/50], Step [0/938], d_loss: 0.4850, g_loss: 3.3252\n",
      "Epoch [17/50], Step [500/938], d_loss: 0.4139, g_loss: 3.0307\n",
      "Epoch [18/50], Step [0/938], d_loss: 0.3884, g_loss: 3.0174\n",
      "Epoch [18/50], Step [500/938], d_loss: 0.3957, g_loss: 3.1943\n",
      "Epoch [19/50], Step [0/938], d_loss: 0.3433, g_loss: 3.6600\n",
      "Epoch [19/50], Step [500/938], d_loss: 0.3972, g_loss: 3.1621\n",
      "Epoch [20/50], Step [0/938], d_loss: 0.4486, g_loss: 3.6583\n",
      "Epoch [20/50], Step [500/938], d_loss: 0.3603, g_loss: 4.2478\n",
      "Epoch [21/50], Step [0/938], d_loss: 0.5011, g_loss: 2.5807\n",
      "Epoch [21/50], Step [500/938], d_loss: 0.8328, g_loss: 3.3651\n",
      "Epoch [22/50], Step [0/938], d_loss: 0.6751, g_loss: 3.9170\n",
      "Epoch [22/50], Step [500/938], d_loss: 0.2970, g_loss: 3.0714\n",
      "Epoch [23/50], Step [0/938], d_loss: 0.3747, g_loss: 3.0089\n",
      "Epoch [23/50], Step [500/938], d_loss: 0.4276, g_loss: 2.4574\n",
      "Epoch [24/50], Step [0/938], d_loss: 0.4280, g_loss: 3.9993\n",
      "Epoch [24/50], Step [500/938], d_loss: 0.2375, g_loss: 3.5636\n",
      "Epoch [25/50], Step [0/938], d_loss: 0.7198, g_loss: 1.9330\n",
      "Epoch [25/50], Step [500/938], d_loss: 0.4595, g_loss: 2.8675\n",
      "Epoch [26/50], Step [0/938], d_loss: 0.6065, g_loss: 2.9312\n",
      "Epoch [26/50], Step [500/938], d_loss: 0.3442, g_loss: 3.8193\n",
      "Epoch [27/50], Step [0/938], d_loss: 0.3227, g_loss: 3.3072\n",
      "Epoch [27/50], Step [500/938], d_loss: 0.5593, g_loss: 3.1468\n",
      "Epoch [28/50], Step [0/938], d_loss: 0.7234, g_loss: 2.7759\n",
      "Epoch [28/50], Step [500/938], d_loss: 0.5098, g_loss: 2.4267\n",
      "Epoch [29/50], Step [0/938], d_loss: 0.4262, g_loss: 3.2311\n",
      "Epoch [29/50], Step [500/938], d_loss: 0.7508, g_loss: 1.6600\n",
      "Epoch [30/50], Step [0/938], d_loss: 0.9785, g_loss: 1.4708\n",
      "Epoch [30/50], Step [500/938], d_loss: 0.6013, g_loss: 2.2442\n",
      "Epoch [31/50], Step [0/938], d_loss: 0.6784, g_loss: 1.7187\n",
      "Epoch [31/50], Step [500/938], d_loss: 0.4601, g_loss: 2.9073\n",
      "Epoch [32/50], Step [0/938], d_loss: 0.6999, g_loss: 2.4866\n",
      "Epoch [32/50], Step [500/938], d_loss: 0.5790, g_loss: 2.6389\n",
      "Epoch [33/50], Step [0/938], d_loss: 0.6536, g_loss: 2.0223\n",
      "Epoch [33/50], Step [500/938], d_loss: 0.8821, g_loss: 1.2311\n",
      "Epoch [34/50], Step [0/938], d_loss: 0.7089, g_loss: 2.0603\n",
      "Epoch [34/50], Step [500/938], d_loss: 0.7544, g_loss: 3.0494\n",
      "Epoch [35/50], Step [0/938], d_loss: 0.6511, g_loss: 4.1540\n",
      "Epoch [35/50], Step [500/938], d_loss: 0.5752, g_loss: 2.9079\n",
      "Epoch [36/50], Step [0/938], d_loss: 0.4361, g_loss: 4.4644\n",
      "Epoch [36/50], Step [500/938], d_loss: 0.6273, g_loss: 2.8472\n",
      "Epoch [37/50], Step [0/938], d_loss: 0.4670, g_loss: 3.0861\n",
      "Epoch [37/50], Step [500/938], d_loss: 0.4474, g_loss: 2.7460\n",
      "Epoch [38/50], Step [0/938], d_loss: 0.5066, g_loss: 2.5143\n",
      "Epoch [38/50], Step [500/938], d_loss: 0.5844, g_loss: 2.6097\n",
      "Epoch [39/50], Step [0/938], d_loss: 1.0397, g_loss: 1.7166\n",
      "Epoch [39/50], Step [500/938], d_loss: 0.6284, g_loss: 2.0555\n",
      "Epoch [40/50], Step [0/938], d_loss: 0.7654, g_loss: 1.9992\n",
      "Epoch [40/50], Step [500/938], d_loss: 0.5414, g_loss: 2.2027\n",
      "Epoch [41/50], Step [0/938], d_loss: 0.5775, g_loss: 2.1864\n",
      "Epoch [41/50], Step [500/938], d_loss: 0.5934, g_loss: 2.0061\n",
      "Epoch [42/50], Step [0/938], d_loss: 0.5890, g_loss: 2.6092\n",
      "Epoch [42/50], Step [500/938], d_loss: 0.7099, g_loss: 3.0186\n",
      "Epoch [43/50], Step [0/938], d_loss: 0.4483, g_loss: 3.0384\n",
      "Epoch [43/50], Step [500/938], d_loss: 0.7463, g_loss: 2.4446\n",
      "Epoch [44/50], Step [0/938], d_loss: 0.6418, g_loss: 2.7076\n",
      "Epoch [44/50], Step [500/938], d_loss: 0.4892, g_loss: 2.9975\n",
      "Epoch [45/50], Step [0/938], d_loss: 0.5982, g_loss: 3.2259\n",
      "Epoch [45/50], Step [500/938], d_loss: 0.5759, g_loss: 2.2572\n",
      "Epoch [46/50], Step [0/938], d_loss: 0.8537, g_loss: 1.5328\n",
      "Epoch [46/50], Step [500/938], d_loss: 0.9081, g_loss: 1.8962\n",
      "Epoch [47/50], Step [0/938], d_loss: 0.7731, g_loss: 1.9939\n",
      "Epoch [47/50], Step [500/938], d_loss: 0.6462, g_loss: 2.0099\n",
      "Epoch [48/50], Step [0/938], d_loss: 0.6263, g_loss: 1.8401\n",
      "Epoch [48/50], Step [500/938], d_loss: 0.8147, g_loss: 1.5619\n",
      "Epoch [49/50], Step [0/938], d_loss: 0.5426, g_loss: 2.1308\n",
      "Epoch [49/50], Step [500/938], d_loss: 1.0548, g_loss: 1.6210\n",
      "Epoch [50/50], Step [0/938], d_loss: 0.7967, g_loss: 2.2629\n",
      "Epoch [50/50], Step [500/938], d_loss: 0.6258, g_loss: 1.9842\n",
      "Training selesai.\n"
     ]
    }
   ],
   "source": [
    "# Training loop\n",
    "for epoch in range(num_epochs):\n",
    "    for i, (real_data, _) in enumerate(dataloader):\n",
    "        batch_size = real_data.size(0)\n",
    "        real_data = real_data.view(batch_size, -1)  # Flatten gambar\n",
    "\n",
    "        # Real labels (1) dan fake labels (0)\n",
    "        real_labels = torch.ones(batch_size, 1)\n",
    "        fake_labels = torch.zeros(batch_size, 1)\n",
    "\n",
    "        # Train discriminator on real data\n",
    "        outputs = discriminator(real_data)\n",
    "        d_loss_real = criterion(outputs, real_labels)\n",
    "        real_score = outputs\n",
    "\n",
    "        # Train discriminator on fake data\n",
    "        noise = torch.randn(batch_size, nz)\n",
    "        fake_data = generator(noise)\n",
    "        outputs = discriminator(fake_data.detach())\n",
    "        d_loss_fake = criterion(outputs, fake_labels)\n",
    "        fake_score = outputs\n",
    "\n",
    "        # Total discriminator loss\n",
    "        d_loss = d_loss_real + d_loss_fake\n",
    "        optimizerD.zero_grad()\n",
    "        d_loss.backward()\n",
    "        optimizerD.step()\n",
    "\n",
    "        # Train generator\n",
    "        outputs = discriminator(fake_data)\n",
    "        g_loss = criterion(outputs, real_labels)  # Trick discriminator to output 1 for fake data\n",
    "        optimizerG.zero_grad()\n",
    "        g_loss.backward()\n",
    "        optimizerG.step()\n",
    "\n",
    "        # Print losses setiap beberapa iterasi\n",
    "        if i % 500 == 0:\n",
    "            print(f'Epoch [{epoch+1}/{num_epochs}], Step [{i}/{len(dataloader)}], d_loss: {d_loss.item():.4f}, g_loss: {g_loss.item():.4f}')\n",
    "\n",
    "    # Save gambar yang dihasilkan generator setiap epoch\n",
    "    with torch.no_grad():\n",
    "        fake_images = generator(noise).view(-1, 1, 28, 28)\n",
    "        vutils.save_image(fake_images, f'output/fake_images_epoch_{epoch+1}.png', normalize=True)\n",
    "\n",
    "print(\"Training selesai.\")"
   ]
  },
  {
   "cell_type": "markdown",
   "metadata": {},
   "source": [
    "# Contoh Model Difusi Paling Sederhana"
   ]
  },
  {
   "cell_type": "code",
   "execution_count": 7,
   "metadata": {
    "jupyter": {
     "source_hidden": true
    }
   },
   "outputs": [
    {
     "data": {
      "text/plain": [
       "device(type='cuda')"
      ]
     },
     "execution_count": 7,
     "metadata": {},
     "output_type": "execute_result"
    }
   ],
   "source": [
    "import torch, gc\n",
    "import torch.nn as nn\n",
    "import torch.optim as optim\n",
    "import torchvision\n",
    "import torchvision.transforms as transforms\n",
    "\n",
    "gc.collect()\n",
    "torch.cuda.empty_cache()\n",
    "seed = 6924\n",
    "np.random.seed(seed)\n",
    "torch.manual_seed(seed=seed)\n",
    "# Set device - Make sure to change runtime type to GPU in Google Colab\n",
    "device = torch.device(\"cuda\" if torch.cuda.is_available() else \"cpu\")\n",
    "device"
   ]
  },
  {
   "cell_type": "code",
   "execution_count": 8,
   "metadata": {
    "jupyter": {
     "source_hidden": true
    }
   },
   "outputs": [
    {
     "data": {
      "text/plain": [
       "'Done'"
      ]
     },
     "execution_count": 8,
     "metadata": {},
     "output_type": "execute_result"
    }
   ],
   "source": [
    "# Hyperparameters\n",
    "epochs = 5\n",
    "batch_size = 64\n",
    "learning_rate = 0.001\n",
    "timesteps = 1000  # Number of diffusion steps\n",
    "\n",
    "# Load the MNIST dataset\n",
    "transform = transforms.Compose([transforms.ToTensor(), transforms.Normalize((0.5,), (0.5,))])\n",
    "train_dataset = torchvision.datasets.MNIST(root='./data', train=True, download=True, transform=transform)\n",
    "train_loader = torch.utils.data.DataLoader(dataset=train_dataset, batch_size=batch_size, shuffle=True)\n",
    "\"Done\""
   ]
  },
  {
   "cell_type": "code",
   "execution_count": 9,
   "metadata": {},
   "outputs": [
    {
     "data": {
      "text/plain": [
       "'Done'"
      ]
     },
     "execution_count": 9,
     "metadata": {},
     "output_type": "execute_result"
    }
   ],
   "source": [
    "# Define a simple neural network model\n",
    "class SimpleNN(nn.Module):\n",
    "    def __init__(self):\n",
    "        super(SimpleNN, self).__init__()\n",
    "        self.fc1 = nn.Linear(28 * 28, 128)  # Flatten the image to a vector of 28*28\n",
    "        self.fc2 = nn.Linear(128, 128)\n",
    "        self.fc3 = nn.Linear(128, 28 * 28)  # Output should match the flattened image size\n",
    "\n",
    "    def forward(self, x):\n",
    "        x = x.view(-1, 28 * 28)  # Flatten the image\n",
    "        x = torch.relu(self.fc1(x))\n",
    "        x = torch.relu(self.fc2(x))\n",
    "        x = self.fc3(x)\n",
    "        x = x.view(-1, 1, 28, 28)  # Reshape back to the image dimensions\n",
    "        return x\n",
    "\n",
    "# Noise schedule\n",
    "def noise_schedule(t, beta_start=0.0001, beta_end=0.02):\n",
    "    return beta_start + t * (beta_end - beta_start)\n",
    "\n",
    "# Add noise to images\n",
    "def add_noise(images, t, device):\n",
    "    noise = torch.randn_like(images).to(device)\n",
    "    return torch.sqrt(1 - t) * images + torch.sqrt(t) * noise\n",
    "\n",
    "# Training loop\n",
    "model = SimpleNN().to(device)\n",
    "optimizer = optim.Adam(model.parameters(), lr=0.001)\n",
    "criterion = nn.MSELoss()\n",
    "\"Done\""
   ]
  },
  {
   "cell_type": "code",
   "execution_count": 10,
   "metadata": {},
   "outputs": [
    {
     "name": "stdout",
     "output_type": "stream",
     "text": [
      "Epoch [1/300], Loss: 0.0531\n",
      "Epoch [31/300], Loss: 0.0461\n",
      "Epoch [61/300], Loss: 0.0408\n",
      "Epoch [91/300], Loss: 0.0416\n",
      "Epoch [121/300], Loss: 0.0418\n",
      "Epoch [151/300], Loss: 0.0455\n",
      "Epoch [181/300], Loss: 0.0404\n",
      "Epoch [211/300], Loss: 0.0422\n",
      "Epoch [241/300], Loss: 0.0361\n",
      "Epoch [271/300], Loss: 0.0455\n"
     ]
    }
   ],
   "source": [
    "num_epochs = 100\n",
    "for epoch in range(num_epochs):\n",
    "    for images, _ in dataloader:\n",
    "        images = images.to(device)\n",
    "        t = torch.rand(images.size(0), 1, 1, 1).to(device)  # Add time step dimension\n",
    "        t = noise_schedule(t).to(device)\n",
    "        \n",
    "        noisy_images = add_noise(images, t, device)\n",
    "        denoised_images = model(noisy_images)\n",
    "        \n",
    "        loss = criterion(denoised_images, images)\n",
    "        \n",
    "        optimizer.zero_grad()\n",
    "        loss.backward()\n",
    "        optimizer.step()\n",
    "    if epoch % 10 == 0:\n",
    "        print(f\"Epoch [{epoch+1}/{num_epochs}], Loss: {loss.item():.4f}\")"
   ]
  },
  {
   "cell_type": "code",
   "execution_count": 12,
   "metadata": {},
   "outputs": [
    {
     "name": "stdout",
     "output_type": "stream",
     "text": [
      "Original Images\n"
     ]
    },
    {
     "data": {
      "image/png": "[encoded data removed]",
      "text/plain": [
       "<Figure size 1000x200 with 5 Axes>"
      ]
     },
     "metadata": {},
     "output_type": "display_data"
    },
    {
     "name": "stdout",
     "output_type": "stream",
     "text": [
      "Noisy Images\n"
     ]
    },
    {
     "data": {
      "image/png": "[encoded data removed]",
      "text/plain": [
       "<Figure size 1000x200 with 5 Axes>"
      ]
     },
     "metadata": {},
     "output_type": "display_data"
    },
    {
     "name": "stdout",
     "output_type": "stream",
     "text": [
      "Denoised Images\n"
     ]
    },
    {
     "data": {
      "image/png": "[encoded data removed]",
      "text/plain": [
       "<Figure size 1000x200 with 5 Axes>"
      ]
     },
     "metadata": {},
     "output_type": "display_data"
    }
   ],
   "source": [
    "# Visualize original, noisy, and denoised images\n",
    "def show_images(images):\n",
    "    images = images.cpu().detach().numpy()\n",
    "    fig, axs = plt.subplots(1, len(images), figsize=(10, 2))\n",
    "    for i, img in enumerate(images):\n",
    "        axs[i].imshow(img[0], cmap='gray')\n",
    "        axs[i].axis('off')\n",
    "    plt.show()\n",
    "\n",
    "with torch.no_grad():\n",
    "    for images, _ in dataloader:\n",
    "        images = images.to(device)\n",
    "        t = torch.rand(images.size(0), 1, 1, 1).to(device)\n",
    "        t = noise_schedule(t).to(device)\n",
    "        \n",
    "        noisy_images = add_noise(images, t, device)\n",
    "        denoised_images = model(noisy_images)\n",
    "        \n",
    "        print(\"Original Images\")\n",
    "        show_images(images[:5])\n",
    "        \n",
    "        print(\"Noisy Images\")\n",
    "        show_images(noisy_images[:5])\n",
    "        \n",
    "        print(\"Denoised Images\")\n",
    "        show_images(denoised_images[:5])\n",
    "        \n",
    "        break"
   ]
  },
  {
   "cell_type": "markdown",
   "metadata": {},
   "source": [
    "# Using PreTrained Model - Scikit LLM\n",
    "\n",
    "* https://skllm.beastbyte.ai/\n",
    "* Create API Key: https://platform.openai.com/api-keys\n",
    "* take notes of your organization ID: https://platform.openai.com/settings/organization/general"
   ]
  },
  {
   "cell_type": "code",
   "execution_count": 14,
   "metadata": {},
   "outputs": [],
   "source": [
    "from openai import OpenAI\n",
    "\n",
    "try:\n",
    "    with open('openAI.txt') as f: key = f.read() # https://platform.openai.com/api-keys\n",
    "    with open('org.txt') as f: org = f.read() # https://platform.openai.com/settings/organization/general\n",
    "except:\n",
    "    key = \"\" # Copy-Paste your openAI API Key here \n",
    "    org = \"\" # Copy-Paste your Organization ID here\n",
    "    \n",
    "client = OpenAI(api_key=key,)\n",
    "\n",
    "chat_completion = client.chat.completions.create(\n",
    "    messages=[\n",
    "        {\n",
    "            \"role\": \"user\",\n",
    "            \"content\": \"Terangkan dalam 3 kalimat apa itu BPJS kesehatan?\",\n",
    "        }\n",
    "    ],\n",
    "    model=\"gpt-3.5-turbo\",\n",
    ")"
   ]
  },
  {
   "cell_type": "code",
   "execution_count": 21,
   "metadata": {},
   "outputs": [
    {
     "data": {
      "text/plain": [
       "{'id': 'chatcmpl-A4IVJqffTAEdpGQidLlECPo22U0LE',\n",
       " 'choices': [{'finish_reason': 'stop',\n",
       "   'index': 0,\n",
       "   'logprobs': None,\n",
       "   'message': {'content': 'BPJS Kesehatan adalah program jaminan kesehatan yang diselenggarakan oleh pemerintah Indonesia untuk memberikan fasilitas pelayanan kesehatan kepada seluruh rakyat Indonesia. Peserta BPJS Kesehatan harus membayar iuran bulanan sesuai dengan kelas layanan yang dipilih agar mendapatkan akses pelayanan kesehatan yang bermutu. Program BPJS Kesehatan mencakup berbagai jenis pelayanan kesehatan mulai dari pemeriksaan kesehatan rutin hingga perawatan medis yang membutuhkan fasilitas rumah sakit.',\n",
       "    'refusal': None,\n",
       "    'role': 'assistant'}}],\n",
       " 'created': 1725587805,\n",
       " 'model': 'gpt-3.5-turbo-0125',\n",
       " 'object': 'chat.completion',\n",
       " 'system_fingerprint': None,\n",
       " 'usage': {'completion_tokens': 146, 'prompt_tokens': 23, 'total_tokens': 169}}"
      ]
     },
     "execution_count": 21,
     "metadata": {},
     "output_type": "execute_result"
    }
   ],
   "source": [
    "chat_completion.to_dict()"
   ]
  },
  {
   "cell_type": "markdown",
   "metadata": {},
   "source": [
    "# FineTune Model GPT-4o mini ==> OpenAI PlayGround - Data Kesehatan"
   ]
  },
  {
   "cell_type": "code",
   "execution_count": null,
   "metadata": {},
   "outputs": [],
   "source": []
  },
  {
   "cell_type": "markdown",
   "metadata": {},
   "source": [
    "# Using FineTuned Model di langkah Sebelumnya"
   ]
  },
  {
   "cell_type": "code",
   "execution_count": null,
   "metadata": {},
   "outputs": [],
   "source": []
  },
  {
   "cell_type": "markdown",
   "metadata": {
    "editable": true,
    "slideshow": {
     "slide_type": "slide"
    },
    "tags": []
   },
   "source": [
    "# <center><font color=\"blue\"> Akhir Modul Workshop BPJS Healthkaton 2024</font></center>\n",
    "<hr />\n",
    "<center><img alt=\"\" src=\"images/meme-AI-Summary.png\" /></center>"
   ]
  }
 ],
 "metadata": {
  "celltoolbar": "Slideshow",
  "hide_input": false,
  "kernelspec": {
   "display_name": "Python 3 (ipykernel)",
   "language": "python",
   "name": "python3"
  },
  "language_info": {
   "codemirror_mode": {
    "name": "ipython",
    "version": 3
   },
   "file_extension": ".py",
   "mimetype": "text/x-python",
   "name": "python",
   "nbconvert_exporter": "python",
   "pygments_lexer": "ipython3",
   "version": "3.10.14"
  },
  "latex_envs": {
   "LaTeX_envs_menu_present": true,
   "autoclose": false,
   "autocomplete": true,
   "bibliofile": "biblio.bib",
   "cite_by": "apalike",
   "current_citInitial": 1,
   "eqLabelWithNumbers": true,
   "eqNumInitial": 1,
   "hotkeys": {
    "equation": "Ctrl-E",
    "itemize": "Ctrl-I"
   },
   "labels_anchors": false,
   "latex_user_defs": false,
   "report_style_numbering": false,
   "user_envs_cfg": false
  },
  "vp": {
   "vp_config_version": "1.0.0",
   "vp_menu_width": 273,
   "vp_note_display": false,
   "vp_note_width": 0,
   "vp_position": {
    "width": 278
   },
   "vp_section_display": false,
   "vp_signature": "VisualPython"
  }
 },
 "nbformat": 4,
 "nbformat_minor": 4
}
